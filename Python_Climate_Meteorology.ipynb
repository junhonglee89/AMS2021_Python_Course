{
 "cells": [
  {
   "cell_type": "code",
   "execution_count": null,
   "metadata": {},
   "outputs": [],
   "source": [
    "from datetime import datetime\n",
    "\n",
    "import cartopy.crs as ccrs\n",
    "import cartopy.feature as cfeature\n",
    "\n",
    "# Notice that we will use \"plt\" to access matplotlib\n",
    "import matplotlib.pyplot as plt\n",
    "\n",
    "import metpy.calc as mpcalc\n",
    "import metpy.plots as mpplots\n",
    "\n",
    "import numpy as np\n",
    "\n",
    "from matplotlib.patheffects import withStroke\n",
    "from metpy.io import parse_metar_file\n",
    "from metpy.units import pandas_dataframe_to_unit_arrays\n",
    "\n",
    "# Here is where we import the TDSCatalog class from siphon for obtaining our data \n",
    "from siphon.catalog import TDSCatalog"
   ]
  },
  {
   "cell_type": "code",
   "execution_count": null,
   "metadata": {},
   "outputs": [],
   "source": []
  }
 ],
 "metadata": {
  "kernelspec": {
   "display_name": "J Lee/python 3.6.10",
   "language": "python",
   "name": "my-kernel_python3.6.10"
  },
  "language_info": {
   "codemirror_mode": {
    "name": "ipython",
    "version": 3
   },
   "file_extension": ".py",
   "mimetype": "text/x-python",
   "name": "python",
   "nbconvert_exporter": "python",
   "pygments_lexer": "ipython3",
   "version": "3.6.10"
  },
  "orig_nbformat": 4
 },
 "nbformat": 4,
 "nbformat_minor": 2
}
